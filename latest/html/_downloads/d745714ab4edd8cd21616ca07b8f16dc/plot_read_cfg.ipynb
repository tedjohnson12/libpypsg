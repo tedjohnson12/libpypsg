{
  "cells": [
    {
      "cell_type": "markdown",
      "metadata": {},
      "source": [
        "\n# Read a PSG configuration file\n\nThis example shows how to read a configuration file\nand plot the layers.\n"
      ]
    },
    {
      "cell_type": "code",
      "execution_count": null,
      "metadata": {
        "collapsed": false
      },
      "outputs": [],
      "source": [
        "from typing import List\nfrom pathlib import Path\nimport matplotlib.pyplot as plt\nimport numpy as np\n\nfrom pypsg.cfg.config import PyConfig, BinConfig\nfrom pypsg.cfg.base import Profile\n\ntry:\n    CFG_PATH = Path(__file__).parent / 'psg_cfg.txt'\nexcept NameError:\n    CFG_PATH = Path('psg_cfg.txt')"
      ]
    },
    {
      "cell_type": "markdown",
      "metadata": {},
      "source": [
        "## Read the file\n\n"
      ]
    },
    {
      "cell_type": "code",
      "execution_count": null,
      "metadata": {
        "collapsed": false
      },
      "outputs": [],
      "source": [
        "cfg = BinConfig.from_file(CFG_PATH)\n\nprint(cfg.content)"
      ]
    },
    {
      "cell_type": "markdown",
      "metadata": {},
      "source": [
        "## Create a PyConfig object\n\n"
      ]
    },
    {
      "cell_type": "code",
      "execution_count": null,
      "metadata": {
        "collapsed": false
      },
      "outputs": [],
      "source": [
        "pycfg = PyConfig.from_binaryconfig(cfg)"
      ]
    },
    {
      "cell_type": "markdown",
      "metadata": {},
      "source": [
        "Plot the layers\n\n"
      ]
    },
    {
      "cell_type": "code",
      "execution_count": null,
      "metadata": {
        "collapsed": false
      },
      "outputs": [],
      "source": [
        "profs:List[Profile] = pycfg.atmosphere.profile.value\npdict = {prof.name:prof.dat for prof in profs}\n\nplt.plot(pdict[Profile.TEMPERATURE], pdict[Profile.PRESSURE])\nplt.xlabel('Temperature')\nplt.ylabel('Pressure')\nplt.yscale('log')\nplt.ylim(*np.flip(plt.ylim()))"
      ]
    }
  ],
  "metadata": {
    "kernelspec": {
      "display_name": "Python 3",
      "language": "python",
      "name": "python3"
    },
    "language_info": {
      "codemirror_mode": {
        "name": "ipython",
        "version": 3
      },
      "file_extension": ".py",
      "mimetype": "text/x-python",
      "name": "python",
      "nbconvert_exporter": "python",
      "pygments_lexer": "ipython3",
      "version": "3.11.9"
    }
  },
  "nbformat": 4,
  "nbformat_minor": 0
}