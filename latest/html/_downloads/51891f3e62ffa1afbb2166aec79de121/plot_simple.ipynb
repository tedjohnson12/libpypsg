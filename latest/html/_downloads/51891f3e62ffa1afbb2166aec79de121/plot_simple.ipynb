{
  "cells": [
    {
      "cell_type": "markdown",
      "metadata": {},
      "source": [
        "\n# ``PyPSG``\n\nA Python wrapper for the Planetary Spectrum Generator.\n\nThe goal of this package is to make PSG more accessible to\nnew users, but still be powerfull enough that expert users\nwill find it usefull.\n\nIn the simplest use case, users can create a PSG config file from scratch\nusing the ``PyConfig`` class.\n"
      ]
    },
    {
      "cell_type": "code",
      "execution_count": null,
      "metadata": {
        "collapsed": false
      },
      "outputs": [],
      "source": [
        "# sphinx_gallery_thumbnail_path = '_static/pypsg_basic.png'\n\nimport pypsg\n\npypsg.docker.set_url_and_run()\n\ncfg = pypsg.cfg.PyConfig(\n    target=pypsg.cfg.Target(object='Exoplanet',name='Proxima Cen b')\n    )\nprint(cfg.content)"
      ]
    },
    {
      "cell_type": "markdown",
      "metadata": {},
      "source": [
        "## Get the rad file\n\n"
      ]
    },
    {
      "cell_type": "code",
      "execution_count": null,
      "metadata": {
        "collapsed": false
      },
      "outputs": [],
      "source": [
        "psg = pypsg.APICall(\n        cfg=cfg,\n        output_type='rad',\n    )\nresponse = psg()"
      ]
    },
    {
      "cell_type": "markdown",
      "metadata": {},
      "source": [
        "## Look at the rad file\n\n"
      ]
    },
    {
      "cell_type": "code",
      "execution_count": null,
      "metadata": {
        "collapsed": false
      },
      "outputs": [],
      "source": [
        "rad = response.rad\n\nprint(rad)"
      ]
    }
  ],
  "metadata": {
    "kernelspec": {
      "display_name": "Python 3",
      "language": "python",
      "name": "python3"
    },
    "language_info": {
      "codemirror_mode": {
        "name": "ipython",
        "version": 3
      },
      "file_extension": ".py",
      "mimetype": "text/x-python",
      "name": "python",
      "nbconvert_exporter": "python",
      "pygments_lexer": "ipython3",
      "version": "3.11.9"
    }
  },
  "nbformat": 4,
  "nbformat_minor": 0
}