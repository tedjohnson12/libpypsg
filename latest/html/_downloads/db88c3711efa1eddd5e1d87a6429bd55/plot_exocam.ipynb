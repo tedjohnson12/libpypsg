{
  "cells": [
    {
      "cell_type": "markdown",
      "metadata": {},
      "source": [
        "\n# Work with an ExoCAM GCM\n\nLearn how to use the ``pypsg.globes`` ExoCAM module. \n\n\nTo get started, install ``pypsg``:\n\n```bash\npip install pypsg\n```\nIt would also be beneficial to have PSG installed with docker.\n"
      ]
    },
    {
      "cell_type": "code",
      "execution_count": null,
      "metadata": {
        "collapsed": false
      },
      "outputs": [],
      "source": [
        "from pathlib import Path\nfrom netCDF4 import Dataset\nfrom cartopy import crs as ccrs\nfrom astropy import units as u\nimport matplotlib.pyplot as plt\nfrom pypsg.globes.exocam import exocam_to_pygcm, download_exocam_test_data\nfrom pypsg import PyConfig, APICall\nfrom pypsg.cfg import models\nfrom pypsg.docker import set_url_and_run\nfrom pypsg.units import resolving_power\n\nTEST_PATH = download_exocam_test_data(rewrite=False) # Change this to the path of your dataset\n\nset_url_and_run() # this will run PSG if it is installed. Otherwise it will change your url setting to `psg.gsfc.nasa.gov`."
      ]
    },
    {
      "cell_type": "markdown",
      "metadata": {},
      "source": [
        "## Read the file\n\n"
      ]
    },
    {
      "cell_type": "code",
      "execution_count": null,
      "metadata": {
        "collapsed": false
      },
      "outputs": [],
      "source": [
        "data = Dataset(TEST_PATH) # remember to close later."
      ]
    },
    {
      "cell_type": "markdown",
      "metadata": {},
      "source": [
        "## Convert to PyGCM\n\n"
      ]
    },
    {
      "cell_type": "code",
      "execution_count": null,
      "metadata": {
        "collapsed": false
      },
      "outputs": [],
      "source": [
        "gcm = exocam_to_pygcm(\n    data=data,                  # the GCM dataset\n    itime=0,                    # the time index\n    molecules=['H2O'],          # the molecule names\n    aerosols=['Water'],         # the aerosol names\n    background='N2',            # the background gas\n    lon_start=0.,               # the longitude of the first pixel, optional\n    lat_start=-90.,             # the latitude of the first pixel, optional (probably should never change)\n    mean_molecular_mass=28.     # the mean molecular mass of the atmosphere. This is necessary if you have water.\n)\n\ndata.close()\n\nprint(type(gcm))"
      ]
    },
    {
      "cell_type": "markdown",
      "metadata": {},
      "source": [
        "## Have some fun with the GCM\n\n\n"
      ]
    },
    {
      "cell_type": "code",
      "execution_count": null,
      "metadata": {
        "collapsed": false
      },
      "outputs": [],
      "source": [
        "proj = ccrs.Mollweide(\n                central_longitude=180)\nfig = plt.figure()\nax = fig.add_subplot(1, 1, 1, projection=proj)\nlats = gcm.lats\nlons = gcm.lons\ntemperature = gcm.tsurf.dat.to_value(u.K).T\nim = ax.pcolormesh(lons, lats, temperature, transform=ccrs.PlateCarree(),cmap='viridis')\nfig.colorbar(im,ax=ax,label='T (K)',orientation='vertical')"
      ]
    },
    {
      "cell_type": "markdown",
      "metadata": {},
      "source": [
        "## Set some other parameters\n\nYou can also read in a file and only change the ones you are interested in.\nThis is just a very comprehensive example.\n\n"
      ]
    },
    {
      "cell_type": "code",
      "execution_count": null,
      "metadata": {
        "collapsed": false
      },
      "outputs": [],
      "source": [
        "target = models.Target( # Most of these fields are optional\n    object='Exoplanet',\n    name='Proxima Cen b',\n    diameter=2*u.R_earth,\n    gravity=1*u.M_earth,\n    star_distance=0.04856*u.au,\n    star_velocity=0.00124*u.km/u.s,\n    solar_longitude=0.*u.deg,\n    solar_latitude=0.*u.deg,\n    season=90*u.deg,\n    star_temperature=2900.0*u.K,\n    star_type='M',\n    star_radius=0.14*u.R_sun,\n    star_metallicity=0.0,\n    obs_longitude=36.16*u.deg,\n    obs_latitude=0.*u.deg,\n    obs_velocity=0.499*u.km/u.s,\n    period=11.1868*u.day,\n    )\n\ngeometry = models.Observatory(\n    observer_altitude=1.3*u.pc,\n    stellar_type='M',\n)\n\natmosphere = models.EquilibriumAtmosphere() # This will get changed by the GCM\n\ngenerator = models.Generator(\n    resolution_kernel=True,\n    gas_model=True,\n    continuum_model=True,\n    continuum_stellar=True,\n    apply_telluric_noise=True,\n    apply_telluric_obs=False,\n    rad_units=u.Unit('W m-2 um-1'),\n    log_rad=False,\n    gcm_binning=40, # Change this if you are doing real science\n)\n\ntelescope = models.SingleTelescope(\n    aperture=2*u.m,\n    zodi=1.0,\n    fov=5*u.arcsec,\n    range1=1*u.um,\n    range2=18*u.um,\n    resolution=50.*resolving_power,\n)\n\nnoise = models.CCD(\n    read_noise=10*u.electron,\n    dark_current=100*u.electron/u.s,\n    thoughput=1.0,\n    emissivity=0.1,\n    temperature=35*u.K,\n    exp_time=1*u.hour,\n    n_frames=10,\n)"
      ]
    },
    {
      "cell_type": "markdown",
      "metadata": {},
      "source": [
        "## Put them all together\n\n"
      ]
    },
    {
      "cell_type": "code",
      "execution_count": null,
      "metadata": {
        "collapsed": false
      },
      "outputs": [],
      "source": [
        "config = PyConfig(\n    target=target,\n    geometry=geometry,\n    atmosphere=atmosphere,\n    generator=generator,\n    telescope=telescope,\n    noise=noise,\n    gcm=gcm\n    )"
      ]
    },
    {
      "cell_type": "markdown",
      "metadata": {},
      "source": [
        "## Write the config to a file\n\nThis is optional. But it is nice if you want to use the GUI.\n\n"
      ]
    },
    {
      "cell_type": "code",
      "execution_count": null,
      "metadata": {
        "collapsed": false
      },
      "outputs": [],
      "source": [
        "try:\n    config.to_file(Path(__file__).parent / 'output' / 'psg_cfg.txt')\nexcept NameError: # in case we are not in a notebook\n    config.to_file(Path('output/psg_cfg.txt'))"
      ]
    },
    {
      "cell_type": "markdown",
      "metadata": {},
      "source": [
        "## Run PSG\n\n"
      ]
    },
    {
      "cell_type": "code",
      "execution_count": null,
      "metadata": {
        "collapsed": false
      },
      "outputs": [],
      "source": [
        "psg = APICall(\n    cfg=config,\n    output_type='rad',\n    app='globes',\n)\nresult = psg()\n\nprint(type(result))"
      ]
    },
    {
      "cell_type": "markdown",
      "metadata": {},
      "source": [
        "## Plot the result\n\n"
      ]
    },
    {
      "cell_type": "code",
      "execution_count": null,
      "metadata": {
        "collapsed": false
      },
      "outputs": [],
      "source": [
        "fig, ax = plt.subplots(1,1)\n\nax.plot(result.rad.wl,(result.rad['Proxima-Cen-b']/result.rad['Total']).to_value(u.dimensionless_unscaled)*1e6)\nax.set_xlabel(f'Wavelength ({result.rad.wl.unit})')\nax.set_ylabel(f'Flux (ppm)')"
      ]
    }
  ],
  "metadata": {
    "kernelspec": {
      "display_name": "Python 3",
      "language": "python",
      "name": "python3"
    },
    "language_info": {
      "codemirror_mode": {
        "name": "ipython",
        "version": 3
      },
      "file_extension": ".py",
      "mimetype": "text/x-python",
      "name": "python",
      "nbconvert_exporter": "python",
      "pygments_lexer": "ipython3",
      "version": "3.11.9"
    }
  },
  "nbformat": 4,
  "nbformat_minor": 0
}