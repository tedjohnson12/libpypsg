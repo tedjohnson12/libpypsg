{
  "cells": [
    {
      "cell_type": "markdown",
      "metadata": {},
      "source": [
        "\n# Plot a rad file\n\nGet a rad file from PSG and plot it.\n"
      ]
    },
    {
      "cell_type": "code",
      "execution_count": null,
      "metadata": {
        "collapsed": false
      },
      "outputs": [],
      "source": [
        "from pathlib import Path\nimport matplotlib.pyplot as plt\nimport numpy as np\nimport astropy.units as u\n\nfrom libpypsg.cfg.config import PyConfig\nfrom libpypsg import APICall\nfrom libpypsg import docker\nfrom libpypsg.cfg.base import Table\n\ntry:\n    CFG_PATH = Path(__file__).parent / 'psg_cfg.txt'\nexcept NameError:\n    CFG_PATH = Path('psg_cfg.txt')\n    \ndocker.set_url_and_run()"
      ]
    },
    {
      "cell_type": "markdown",
      "metadata": {},
      "source": [
        "## Read the file\n\n"
      ]
    },
    {
      "cell_type": "code",
      "execution_count": null,
      "metadata": {
        "collapsed": false
      },
      "outputs": [],
      "source": [
        "pycfg = PyConfig.from_file(CFG_PATH)"
      ]
    },
    {
      "cell_type": "markdown",
      "metadata": {},
      "source": [
        "## Examine the cfg\nFor fun\n\n"
      ]
    },
    {
      "cell_type": "code",
      "execution_count": null,
      "metadata": {
        "collapsed": false
      },
      "outputs": [],
      "source": [
        "print(f'This config is looking at a {pycfg.target.object.value} object')\nprint(f'It is called {pycfg.target.name.value}')\nprint(f'It is {pycfg.geometry.observer_altitude.value} away.')\n\nprint(f'We will observe from {pycfg.telescope.range1.value} to {pycfg.telescope.range2.value}.')\nprint(f'The dark current is {pycfg.noise.dark_current.value}. Let\\'s change it.')\nx = np.linspace(1,20,10)*u.um\ny = (np.sin((x/(3*u.um)).to_value(u.dimensionless_unscaled))+1)*pycfg.noise.dark_current.value\npycfg.noise.dark_current = Table(x,y)\n\nprint('Now the dark current is:')\nprint(pycfg.noise.dark_current.asbytes.decode('utf-8'))\n\nplt.plot(x,y)\nplt.xlabel(f'Wavelength ({x.unit})')\nplt.ylabel(f'Dark current ({y.unit})')"
      ]
    },
    {
      "cell_type": "markdown",
      "metadata": {},
      "source": [
        "## Run PSG\n\n"
      ]
    },
    {
      "cell_type": "code",
      "execution_count": null,
      "metadata": {
        "collapsed": false
      },
      "outputs": [],
      "source": [
        "psg = APICall(pycfg,'rad')\nrad = psg().rad"
      ]
    },
    {
      "cell_type": "markdown",
      "metadata": {},
      "source": [
        "## Read the response\n\n"
      ]
    },
    {
      "cell_type": "code",
      "execution_count": null,
      "metadata": {
        "collapsed": false
      },
      "outputs": [],
      "source": [
        "wl = rad.wl\nflux = rad['Total']\nplt.plot(wl,flux)\nplt.xlabel(wl.unit)\nplt.ylabel(flux.unit)"
      ]
    }
  ],
  "metadata": {
    "kernelspec": {
      "display_name": "Python 3",
      "language": "python",
      "name": "python3"
    },
    "language_info": {
      "codemirror_mode": {
        "name": "ipython",
        "version": 3
      },
      "file_extension": ".py",
      "mimetype": "text/x-python",
      "name": "python",
      "nbconvert_exporter": "python",
      "pygments_lexer": "ipython3",
      "version": "3.11.9"
    }
  },
  "nbformat": 4,
  "nbformat_minor": 0
}